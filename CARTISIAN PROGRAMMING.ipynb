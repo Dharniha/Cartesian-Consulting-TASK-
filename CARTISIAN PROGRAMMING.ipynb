{
 "cells": [
  {
   "cell_type": "markdown",
   "id": "7ae8e643",
   "metadata": {},
   "source": [
    "# The problem Statement\n",
    "The program takes input a short abstract and outputs the following\n",
    "\n",
    "\n",
    "•prints each word in reverse.  \n",
    "\n",
    "•prints Top 2 occurring words in sorted order. The words that have occurred most of the time.\n"
   ]
  },
  {
   "cell_type": "code",
   "execution_count": 1,
   "id": "431c5249",
   "metadata": {},
   "outputs": [
    {
     "name": "stdout",
     "output_type": "stream",
     "text": [
      "Enter any string: This declaration represents a political commitment among declaration partners to advance a positive vision for the Internet in this era of a united europe\n",
      "Reversed string\n",
      "europe united a of era this in internet the for vision positive a advance to partners declaration among commitment political a represents declaration this\n"
     ]
    }
   ],
   "source": [
    "\n",
    "x = input(\"Enter any string: \")\n",
    "# convert the string to lower\n",
    "a=x.lower()\n",
    "\n",
    "#to split the words in the sentence\n",
    "a1= a.split()\n",
    "\n",
    "# to revere the string\n",
    "Reversed_string=a1.reverse()\n",
    "print(\"Reversed string\")\n",
    "\n",
    "print(' '.join(a1))\n"
   ]
  },
  {
   "cell_type": "code",
   "execution_count": 2,
   "id": "e6e94efd",
   "metadata": {},
   "outputs": [
    {
     "name": "stdout",
     "output_type": "stream",
     "text": [
      "[(3, 'a'), (2, 'this'), (2, 'declaration'), (1, 'vision'), (1, 'united'), (1, 'to'), (1, 'the'), (1, 'represents'), (1, 'positive'), (1, 'political'), (1, 'partners'), (1, 'of'), (1, 'internet'), (1, 'in'), (1, 'for'), (1, 'europe'), (1, 'era'), (1, 'commitment'), (1, 'among'), (1, 'advance')]\n"
     ]
    }
   ],
   "source": [
    "#For count the each word occurence in the sentence\n",
    "result = {i:a1.count(i) for i in set(a1)}\n",
    "count_of_words = ((value, key) for (key,value) in result.items())\n",
    "\n",
    "# to make the words aligned in descending order with respect to the count of the words\n",
    "sorted_count_of_words = sorted(count_of_words, reverse=True)\n",
    "print(sorted_count_of_words)"
   ]
  },
  {
   "cell_type": "markdown",
   "id": "027bb841",
   "metadata": {},
   "source": [
    "# Top 2 occurring words in sorted order. The words that have occurred most of the time."
   ]
  },
  {
   "cell_type": "code",
   "execution_count": 3,
   "id": "a7baade6",
   "metadata": {},
   "outputs": [
    {
     "name": "stdout",
     "output_type": "stream",
     "text": [
      "Top 2 occurring words    (3, 'a') (2, 'this')\n"
     ]
    }
   ],
   "source": [
    "print(\"Top 2 occurring words   \",sorted_count_of_words[0],sorted_count_of_words[1])\n"
   ]
  },
  {
   "cell_type": "code",
   "execution_count": null,
   "id": "c5234ee8",
   "metadata": {},
   "outputs": [],
   "source": []
  }
 ],
 "metadata": {
  "kernelspec": {
   "display_name": "Python 3 (ipykernel)",
   "language": "python",
   "name": "python3"
  },
  "language_info": {
   "codemirror_mode": {
    "name": "ipython",
    "version": 3
   },
   "file_extension": ".py",
   "mimetype": "text/x-python",
   "name": "python",
   "nbconvert_exporter": "python",
   "pygments_lexer": "ipython3",
   "version": "3.9.12"
  }
 },
 "nbformat": 4,
 "nbformat_minor": 5
}
